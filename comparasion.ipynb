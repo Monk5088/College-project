{
 "cells": [
  {
   "cell_type": "code",
   "execution_count": 1,
   "metadata": {},
   "outputs": [],
   "source": [
    "import numpy as np # linear algebra\n",
    "import pandas as pd # data processing, CSV file I/O (e.g. pd.read_csv)\n",
    "import matplotlib.pyplot as plt"
   ]
  },
  {
   "cell_type": "code",
   "execution_count": 2,
   "metadata": {},
   "outputs": [],
   "source": [
    "\n",
    "import seaborn as sns # used for plot interactive graph.\n",
    "from sklearn.ensemble import RandomForestClassifier\n",
    "from sklearn.linear_model import LogisticRegression\n",
    "from sklearn.metrics import average_precision_score\n",
    "from sklearn.model_selection import cross_val_score\n",
    "from sklearn.metrics import precision_recall_curve\n",
    "from sklearn.neighbors import KNeighborsClassifier\n",
    "from sklearn.tree import DecisionTreeClassifier\n",
    "from sklearn.metrics import confusion_matrix\n",
    "from sklearn.metrics import accuracy_score\n",
    "from sklearn.naive_bayes import GaussianNB\n",
    "from sklearn.metrics import roc_curve\n",
    "from sklearn.metrics import f1_score\n",
    "from sklearn.metrics import auc\n",
    "from sklearn.svm import SVC\n",
    "%matplotlib inline"
   ]
  },
  {
   "cell_type": "code",
   "execution_count": 3,
   "metadata": {},
   "outputs": [
    {
     "data": {
      "text/html": [
       "<div>\n",
       "<style scoped>\n",
       "    .dataframe tbody tr th:only-of-type {\n",
       "        vertical-align: middle;\n",
       "    }\n",
       "\n",
       "    .dataframe tbody tr th {\n",
       "        vertical-align: top;\n",
       "    }\n",
       "\n",
       "    .dataframe thead th {\n",
       "        text-align: right;\n",
       "    }\n",
       "</style>\n",
       "<table border=\"1\" class=\"dataframe\">\n",
       "  <thead>\n",
       "    <tr style=\"text-align: right;\">\n",
       "      <th></th>\n",
       "      <th>age</th>\n",
       "      <th>sex</th>\n",
       "      <th>cp</th>\n",
       "      <th>trestbps</th>\n",
       "      <th>chol</th>\n",
       "      <th>fbs</th>\n",
       "      <th>restecg</th>\n",
       "      <th>thalach</th>\n",
       "      <th>exang</th>\n",
       "      <th>oldpeak</th>\n",
       "      <th>slope</th>\n",
       "      <th>ca</th>\n",
       "      <th>thal</th>\n",
       "      <th>target</th>\n",
       "    </tr>\n",
       "  </thead>\n",
       "  <tbody>\n",
       "    <tr>\n",
       "      <th>0</th>\n",
       "      <td>63</td>\n",
       "      <td>1</td>\n",
       "      <td>3</td>\n",
       "      <td>145</td>\n",
       "      <td>233</td>\n",
       "      <td>1</td>\n",
       "      <td>0</td>\n",
       "      <td>150</td>\n",
       "      <td>0</td>\n",
       "      <td>2.3</td>\n",
       "      <td>0</td>\n",
       "      <td>0</td>\n",
       "      <td>1</td>\n",
       "      <td>1</td>\n",
       "    </tr>\n",
       "    <tr>\n",
       "      <th>1</th>\n",
       "      <td>37</td>\n",
       "      <td>1</td>\n",
       "      <td>2</td>\n",
       "      <td>130</td>\n",
       "      <td>250</td>\n",
       "      <td>0</td>\n",
       "      <td>1</td>\n",
       "      <td>187</td>\n",
       "      <td>0</td>\n",
       "      <td>3.5</td>\n",
       "      <td>0</td>\n",
       "      <td>0</td>\n",
       "      <td>2</td>\n",
       "      <td>1</td>\n",
       "    </tr>\n",
       "    <tr>\n",
       "      <th>2</th>\n",
       "      <td>41</td>\n",
       "      <td>0</td>\n",
       "      <td>1</td>\n",
       "      <td>130</td>\n",
       "      <td>204</td>\n",
       "      <td>0</td>\n",
       "      <td>0</td>\n",
       "      <td>172</td>\n",
       "      <td>0</td>\n",
       "      <td>1.4</td>\n",
       "      <td>2</td>\n",
       "      <td>0</td>\n",
       "      <td>2</td>\n",
       "      <td>1</td>\n",
       "    </tr>\n",
       "    <tr>\n",
       "      <th>3</th>\n",
       "      <td>56</td>\n",
       "      <td>1</td>\n",
       "      <td>1</td>\n",
       "      <td>120</td>\n",
       "      <td>236</td>\n",
       "      <td>0</td>\n",
       "      <td>1</td>\n",
       "      <td>178</td>\n",
       "      <td>0</td>\n",
       "      <td>0.8</td>\n",
       "      <td>2</td>\n",
       "      <td>0</td>\n",
       "      <td>2</td>\n",
       "      <td>1</td>\n",
       "    </tr>\n",
       "    <tr>\n",
       "      <th>4</th>\n",
       "      <td>57</td>\n",
       "      <td>0</td>\n",
       "      <td>0</td>\n",
       "      <td>120</td>\n",
       "      <td>354</td>\n",
       "      <td>0</td>\n",
       "      <td>1</td>\n",
       "      <td>163</td>\n",
       "      <td>1</td>\n",
       "      <td>0.6</td>\n",
       "      <td>2</td>\n",
       "      <td>0</td>\n",
       "      <td>2</td>\n",
       "      <td>1</td>\n",
       "    </tr>\n",
       "  </tbody>\n",
       "</table>\n",
       "</div>"
      ],
      "text/plain": [
       "   age  sex  cp  trestbps  chol  fbs  restecg  thalach  exang  oldpeak  slope  \\\n",
       "0   63    1   3       145   233    1        0      150      0      2.3      0   \n",
       "1   37    1   2       130   250    0        1      187      0      3.5      0   \n",
       "2   41    0   1       130   204    0        0      172      0      1.4      2   \n",
       "3   56    1   1       120   236    0        1      178      0      0.8      2   \n",
       "4   57    0   0       120   354    0        1      163      1      0.6      2   \n",
       "\n",
       "   ca  thal  target  \n",
       "0   0     1       1  \n",
       "1   0     2       1  \n",
       "2   0     2       1  \n",
       "3   0     2       1  \n",
       "4   0     2       1  "
      ]
     },
     "execution_count": 3,
     "metadata": {},
     "output_type": "execute_result"
    }
   ],
   "source": [
    "df = pd.read_csv('https://raw.githubusercontent.com/Monk5088/College-project/master/heart.csv')\n",
    "df.head()"
   ]
  },
  {
   "cell_type": "code",
   "execution_count": 7,
   "metadata": {},
   "outputs": [],
   "source": [
    "\n",
    "\n",
    "#It's a clean, easy to understand set of data. However, the meaning of some of the column headers are not obvious. Here's what they mean,\n",
    "\n",
    "#1.age: The person's age in years\n",
    "\n",
    "#2.sex: The person's sex (1 = male, 0 = female)\n",
    "\n",
    "#3.cp: The chest pain experienced (Value 1: typical angina, Value 2: atypical angina, Value 3: non-anginal pain, Value 4: asymptomatic)\n",
    "\n",
    "#4.trestbps: The person's resting blood pressure (mm Hg on admission to the hospital)\n",
    "\n",
    "#5.chol: The person's cholesterol measurement in mg/dl\n",
    "\n",
    "#6.fbs: The person's fasting blood sugar (> 120 mg/dl, 1 = true; 0 = false)\n",
    "\n",
    "#7.restecg: Resting electrocardiographic measurement (0 = normal, 1 = having ST-T wave abnormality, 2 = showing probable or definite left ventricular hypertrophy by Estes' criteria)\n",
    "\n",
    "#8.thalach: The person's maximum heart rate achieved\n",
    "\n",
    "#9.exang: Exercise induced angina (1 = yes; 0 = no)\n",
    "\n",
    "#10.oldpeak: ST depression induced by exercise relative to rest ('ST' relates to positions on the ECG plot. See more here)\n",
    "\n",
    "#11.slope: the slope of the peak exercise ST segment (Value 1: upsloping, Value 2: flat, Value 3: downsloping)\n",
    "\n",
    "#12.ca: The number of major vessels (0-3)\n",
    "\n",
    "#14.target: Heart disease (0 = no, 1 = yes)\n"
   ]
  },
  {
   "cell_type": "code",
   "execution_count": null,
   "metadata": {},
   "outputs": [],
   "source": []
  },
  {
   "cell_type": "code",
   "execution_count": null,
   "metadata": {},
   "outputs": [],
   "source": []
  },
  {
   "cell_type": "code",
   "execution_count": null,
   "metadata": {},
   "outputs": [],
   "source": []
  },
  {
   "cell_type": "code",
   "execution_count": null,
   "metadata": {},
   "outputs": [],
   "source": [
    "\n",
    "\n",
    "\n"
   ]
  },
  {
   "cell_type": "code",
   "execution_count": null,
   "metadata": {},
   "outputs": [],
   "source": [
    "\n",
    "    "
   ]
  },
  {
   "cell_type": "code",
   "execution_count": null,
   "metadata": {},
   "outputs": [],
   "source": []
  },
  {
   "cell_type": "code",
   "execution_count": null,
   "metadata": {},
   "outputs": [],
   "source": []
  },
  {
   "cell_type": "code",
   "execution_count": null,
   "metadata": {},
   "outputs": [],
   "source": []
  },
  {
   "cell_type": "code",
   "execution_count": null,
   "metadata": {},
   "outputs": [],
   "source": []
  },
  {
   "cell_type": "code",
   "execution_count": null,
   "metadata": {},
   "outputs": [],
   "source": []
  },
  {
   "cell_type": "code",
   "execution_count": null,
   "metadata": {},
   "outputs": [],
   "source": []
  },
  {
   "cell_type": "code",
   "execution_count": null,
   "metadata": {
    "scrolled": true
   },
   "outputs": [],
   "source": [
    "\n",
    "\n"
   ]
  },
  {
   "cell_type": "code",
   "execution_count": null,
   "metadata": {},
   "outputs": [],
   "source": []
  },
  {
   "cell_type": "code",
   "execution_count": null,
   "metadata": {},
   "outputs": [],
   "source": []
  },
  {
   "cell_type": "code",
   "execution_count": 4,
   "metadata": {},
   "outputs": [],
   "source": [
    "chest_pain=pd.get_dummies(df['cp'],prefix='cp',drop_first=True)\n",
    "df=pd.concat([df,chest_pain],axis=1)\n",
    "df.drop(['cp'],axis=1,inplace=True)\n",
    "sp=pd.get_dummies(df['slope'],prefix='slope')\n",
    "th=pd.get_dummies(df['thal'],prefix='thal')\n",
    "rest_ecg=pd.get_dummies(df['restecg'],prefix='restecg')\n",
    "frames=[df,sp,th,rest_ecg]\n",
    "df=pd.concat(frames,axis=1)\n",
    "df.drop(['slope','thal','restecg'],axis=1,inplace=True)"
   ]
  },
  {
   "cell_type": "code",
   "execution_count": 5,
   "metadata": {},
   "outputs": [],
   "source": [
    "X = df.drop(['target'], axis = 1)\n",
    "y = df.target.values"
   ]
  },
  {
   "cell_type": "code",
   "execution_count": 6,
   "metadata": {},
   "outputs": [],
   "source": [
    "from sklearn.model_selection import train_test_split\n",
    "X_train, X_test, y_train, y_test = train_test_split(X, y, test_size = 0.2, random_state = 0)"
   ]
  },
  {
   "cell_type": "code",
   "execution_count": 7,
   "metadata": {},
   "outputs": [
    {
     "name": "stderr",
     "output_type": "stream",
     "text": [
      "Using TensorFlow backend.\n",
      "C:\\Users\\akhil\\AppData\\Roaming\\Python\\Python36\\site-packages\\tensorflow\\python\\framework\\dtypes.py:523: FutureWarning: Passing (type, 1) or '1type' as a synonym of type is deprecated; in a future version of numpy, it will be understood as (type, (1,)) / '(1,)type'.\n",
      "  _np_qint8 = np.dtype([(\"qint8\", np.int8, 1)])\n",
      "C:\\Users\\akhil\\AppData\\Roaming\\Python\\Python36\\site-packages\\tensorflow\\python\\framework\\dtypes.py:524: FutureWarning: Passing (type, 1) or '1type' as a synonym of type is deprecated; in a future version of numpy, it will be understood as (type, (1,)) / '(1,)type'.\n",
      "  _np_quint8 = np.dtype([(\"quint8\", np.uint8, 1)])\n",
      "C:\\Users\\akhil\\AppData\\Roaming\\Python\\Python36\\site-packages\\tensorflow\\python\\framework\\dtypes.py:525: FutureWarning: Passing (type, 1) or '1type' as a synonym of type is deprecated; in a future version of numpy, it will be understood as (type, (1,)) / '(1,)type'.\n",
      "  _np_qint16 = np.dtype([(\"qint16\", np.int16, 1)])\n",
      "C:\\Users\\akhil\\AppData\\Roaming\\Python\\Python36\\site-packages\\tensorflow\\python\\framework\\dtypes.py:526: FutureWarning: Passing (type, 1) or '1type' as a synonym of type is deprecated; in a future version of numpy, it will be understood as (type, (1,)) / '(1,)type'.\n",
      "  _np_quint16 = np.dtype([(\"quint16\", np.uint16, 1)])\n",
      "C:\\Users\\akhil\\AppData\\Roaming\\Python\\Python36\\site-packages\\tensorflow\\python\\framework\\dtypes.py:527: FutureWarning: Passing (type, 1) or '1type' as a synonym of type is deprecated; in a future version of numpy, it will be understood as (type, (1,)) / '(1,)type'.\n",
      "  _np_qint32 = np.dtype([(\"qint32\", np.int32, 1)])\n",
      "C:\\Users\\akhil\\AppData\\Roaming\\Python\\Python36\\site-packages\\tensorflow\\python\\framework\\dtypes.py:532: FutureWarning: Passing (type, 1) or '1type' as a synonym of type is deprecated; in a future version of numpy, it will be understood as (type, (1,)) / '(1,)type'.\n",
      "  np_resource = np.dtype([(\"resource\", np.ubyte, 1)])\n"
     ]
    }
   ],
   "source": [
    "from keras.models import Sequential\n",
    "from keras.layers import Conv2D, MaxPooling2D\n",
    "from keras.layers import Activation, Dropout, Flatten, Dense\n",
    "import keras\n",
    "from keras.models import Sequential\n",
    "from keras.layers import Dense\n",
    "import warnings"
   ]
  },
  {
   "cell_type": "code",
   "execution_count": 8,
   "metadata": {},
   "outputs": [
    {
     "name": "stderr",
     "output_type": "stream",
     "text": [
      "C:\\Users\\akhil\\Anaconda3\\lib\\site-packages\\ipykernel_launcher.py:4: UserWarning: Update your `Dense` call to the Keras 2 API: `Dense(activation=\"relu\", input_dim=22, units=11, kernel_initializer=\"uniform\")`\n",
      "  after removing the cwd from sys.path.\n",
      "C:\\Users\\akhil\\Anaconda3\\lib\\site-packages\\ipykernel_launcher.py:7: UserWarning: Update your `Dense` call to the Keras 2 API: `Dense(activation=\"relu\", units=11, kernel_initializer=\"uniform\")`\n",
      "  import sys\n",
      "C:\\Users\\akhil\\Anaconda3\\lib\\site-packages\\ipykernel_launcher.py:10: UserWarning: Update your `Dense` call to the Keras 2 API: `Dense(activation=\"sigmoid\", units=1, kernel_initializer=\"uniform\")`\n",
      "  # Remove the CWD from sys.path while we load stuff.\n"
     ]
    }
   ],
   "source": [
    "classifier = Sequential()\n",
    "\n",
    "# Adding the input layer and the first hidden layer\n",
    "classifier.add(Dense(output_dim = 11, init = 'uniform', activation = 'relu', input_dim = 22))\n",
    "\n",
    "# Adding the second hidden layer\n",
    "classifier.add(Dense(output_dim = 11, init = 'uniform', activation = 'relu'))\n",
    "\n",
    "# Adding the output layer\n",
    "classifier.add(Dense(output_dim = 1, init = 'uniform', activation = 'sigmoid'))\n",
    "\n",
    "# Compiling the ANN\n",
    "classifier.compile(optimizer = 'adam', loss = 'binary_crossentropy', metrics = ['accuracy'])"
   ]
  },
  {
   "cell_type": "code",
   "execution_count": 9,
   "metadata": {},
   "outputs": [
    {
     "name": "stderr",
     "output_type": "stream",
     "text": [
      "C:\\Users\\akhil\\Anaconda3\\lib\\site-packages\\ipykernel_launcher.py:1: UserWarning: The `nb_epoch` argument in `fit` has been renamed `epochs`.\n",
      "  \"\"\"Entry point for launching an IPython kernel.\n"
     ]
    },
    {
     "name": "stdout",
     "output_type": "stream",
     "text": [
      "Epoch 1/100\n",
      "242/242 [==============================] - 0s 2ms/step - loss: 0.6935 - acc: 0.4917\n",
      "Epoch 2/100\n",
      "242/242 [==============================] - 0s 229us/step - loss: 0.6877 - acc: 0.5413\n",
      "Epoch 3/100\n",
      "242/242 [==============================] - 0s 213us/step - loss: 0.6860 - acc: 0.5413\n",
      "Epoch 4/100\n",
      "242/242 [==============================] - 0s 219us/step - loss: 0.6824 - acc: 0.5413\n",
      "Epoch 5/100\n",
      "242/242 [==============================] - 0s 205us/step - loss: 0.6766 - acc: 0.5413\n",
      "Epoch 6/100\n",
      "242/242 [==============================] - 0s 203us/step - loss: 0.6665 - acc: 0.6364\n",
      "Epoch 7/100\n",
      "242/242 [==============================] - 0s 259us/step - loss: 0.6521 - acc: 0.6157\n",
      "Epoch 8/100\n",
      "242/242 [==============================] - 0s 218us/step - loss: 0.6326 - acc: 0.6694\n",
      "Epoch 9/100\n",
      "242/242 [==============================] - 0s 212us/step - loss: 0.6159 - acc: 0.7066\n",
      "Epoch 10/100\n",
      "242/242 [==============================] - 0s 259us/step - loss: 0.6006 - acc: 0.6942\n",
      "Epoch 11/100\n",
      "242/242 [==============================] - 0s 212us/step - loss: 0.5707 - acc: 0.7231\n",
      "Epoch 12/100\n",
      "242/242 [==============================] - 0s 182us/step - loss: 0.5553 - acc: 0.7190\n",
      "Epoch 13/100\n",
      "242/242 [==============================] - 0s 187us/step - loss: 0.5336 - acc: 0.7397\n",
      "Epoch 14/100\n",
      "242/242 [==============================] - 0s 205us/step - loss: 0.5340 - acc: 0.7314\n",
      "Epoch 15/100\n",
      "242/242 [==============================] - 0s 201us/step - loss: 0.5223 - acc: 0.7645\n",
      "Epoch 16/100\n",
      "242/242 [==============================] - 0s 204us/step - loss: 0.5072 - acc: 0.7438\n",
      "Epoch 17/100\n",
      "242/242 [==============================] - 0s 197us/step - loss: 0.4892 - acc: 0.7727\n",
      "Epoch 18/100\n",
      "242/242 [==============================] - 0s 216us/step - loss: 0.4900 - acc: 0.7479\n",
      "Epoch 19/100\n",
      "242/242 [==============================] - 0s 266us/step - loss: 0.4752 - acc: 0.7686\n",
      "Epoch 20/100\n",
      "242/242 [==============================] - 0s 272us/step - loss: 0.4678 - acc: 0.7562\n",
      "Epoch 21/100\n",
      "242/242 [==============================] - 0s 261us/step - loss: 0.4742 - acc: 0.7810\n",
      "Epoch 22/100\n",
      "242/242 [==============================] - 0s 257us/step - loss: 0.4775 - acc: 0.7645\n",
      "Epoch 23/100\n",
      "242/242 [==============================] - 0s 235us/step - loss: 0.4642 - acc: 0.7851\n",
      "Epoch 24/100\n",
      "242/242 [==============================] - 0s 212us/step - loss: 0.4529 - acc: 0.7810\n",
      "Epoch 25/100\n",
      "242/242 [==============================] - 0s 193us/step - loss: 0.4551 - acc: 0.7893\n",
      "Epoch 26/100\n",
      "242/242 [==============================] - 0s 192us/step - loss: 0.4406 - acc: 0.7810\n",
      "Epoch 27/100\n",
      "242/242 [==============================] - 0s 213us/step - loss: 0.4333 - acc: 0.8140\n",
      "Epoch 28/100\n",
      "242/242 [==============================] - 0s 210us/step - loss: 0.4620 - acc: 0.7727\n",
      "Epoch 29/100\n",
      "242/242 [==============================] - 0s 229us/step - loss: 0.4413 - acc: 0.7810\n",
      "Epoch 30/100\n",
      "242/242 [==============================] - 0s 287us/step - loss: 0.4358 - acc: 0.8099\n",
      "Epoch 31/100\n",
      "242/242 [==============================] - 0s 290us/step - loss: 0.4268 - acc: 0.7975\n",
      "Epoch 32/100\n",
      "242/242 [==============================] - 0s 206us/step - loss: 0.4180 - acc: 0.8058\n",
      "Epoch 33/100\n",
      "242/242 [==============================] - 0s 179us/step - loss: 0.4211 - acc: 0.8223\n",
      "Epoch 34/100\n",
      "242/242 [==============================] - 0s 192us/step - loss: 0.4082 - acc: 0.8058\n",
      "Epoch 35/100\n",
      "242/242 [==============================] - 0s 210us/step - loss: 0.4098 - acc: 0.8223\n",
      "Epoch 36/100\n",
      "242/242 [==============================] - 0s 192us/step - loss: 0.4047 - acc: 0.8140\n",
      "Epoch 37/100\n",
      "242/242 [==============================] - 0s 199us/step - loss: 0.4058 - acc: 0.8058\n",
      "Epoch 38/100\n",
      "242/242 [==============================] - 0s 199us/step - loss: 0.3978 - acc: 0.8223\n",
      "Epoch 39/100\n",
      "242/242 [==============================] - 0s 219us/step - loss: 0.4519 - acc: 0.8099\n",
      "Epoch 40/100\n",
      "242/242 [==============================] - 0s 196us/step - loss: 0.4311 - acc: 0.7769\n",
      "Epoch 41/100\n",
      "242/242 [==============================] - 0s 198us/step - loss: 0.3929 - acc: 0.8306\n",
      "Epoch 42/100\n",
      "242/242 [==============================] - 0s 202us/step - loss: 0.4351 - acc: 0.7975\n",
      "Epoch 43/100\n",
      "242/242 [==============================] - 0s 184us/step - loss: 0.3937 - acc: 0.8306\n",
      "Epoch 44/100\n",
      "242/242 [==============================] - 0s 209us/step - loss: 0.3853 - acc: 0.8347\n",
      "Epoch 45/100\n",
      "242/242 [==============================] - 0s 205us/step - loss: 0.3880 - acc: 0.8306\n",
      "Epoch 46/100\n",
      "242/242 [==============================] - 0s 198us/step - loss: 0.4145 - acc: 0.8264\n",
      "Epoch 47/100\n",
      "242/242 [==============================] - 0s 202us/step - loss: 0.4224 - acc: 0.8017\n",
      "Epoch 48/100\n",
      "242/242 [==============================] - 0s 250us/step - loss: 0.3813 - acc: 0.8347\n",
      "Epoch 49/100\n",
      "242/242 [==============================] - 0s 239us/step - loss: 0.4167 - acc: 0.7975\n",
      "Epoch 50/100\n",
      "242/242 [==============================] - 0s 263us/step - loss: 0.3858 - acc: 0.8347\n",
      "Epoch 51/100\n",
      "242/242 [==============================] - 0s 265us/step - loss: 0.3746 - acc: 0.8430\n",
      "Epoch 52/100\n",
      "242/242 [==============================] - 0s 249us/step - loss: 0.3790 - acc: 0.8347\n",
      "Epoch 53/100\n",
      "242/242 [==============================] - 0s 224us/step - loss: 0.3716 - acc: 0.8264\n",
      "Epoch 54/100\n",
      "242/242 [==============================] - 0s 212us/step - loss: 0.3740 - acc: 0.8430\n",
      "Epoch 55/100\n",
      "242/242 [==============================] - 0s 199us/step - loss: 0.3782 - acc: 0.8388\n",
      "Epoch 56/100\n",
      "242/242 [==============================] - 0s 199us/step - loss: 0.3716 - acc: 0.8388\n",
      "Epoch 57/100\n",
      "242/242 [==============================] - 0s 183us/step - loss: 0.3603 - acc: 0.8595\n",
      "Epoch 58/100\n",
      "242/242 [==============================] - 0s 180us/step - loss: 0.4103 - acc: 0.8223\n",
      "Epoch 59/100\n",
      "242/242 [==============================] - 0s 185us/step - loss: 0.3854 - acc: 0.8223\n",
      "Epoch 60/100\n",
      "242/242 [==============================] - 0s 171us/step - loss: 0.3585 - acc: 0.8512\n",
      "Epoch 61/100\n",
      "242/242 [==============================] - 0s 162us/step - loss: 0.3723 - acc: 0.8430\n",
      "Epoch 62/100\n",
      "242/242 [==============================] - 0s 174us/step - loss: 0.3718 - acc: 0.8512\n",
      "Epoch 63/100\n",
      "242/242 [==============================] - 0s 169us/step - loss: 0.3597 - acc: 0.8347\n",
      "Epoch 64/100\n",
      "242/242 [==============================] - 0s 165us/step - loss: 0.3579 - acc: 0.8512\n",
      "Epoch 65/100\n",
      "242/242 [==============================] - 0s 161us/step - loss: 0.3743 - acc: 0.8471\n",
      "Epoch 66/100\n",
      "242/242 [==============================] - 0s 189us/step - loss: 0.4039 - acc: 0.8223\n",
      "Epoch 67/100\n",
      "242/242 [==============================] - 0s 163us/step - loss: 0.4032 - acc: 0.8264\n",
      "Epoch 68/100\n",
      "242/242 [==============================] - 0s 161us/step - loss: 0.3742 - acc: 0.8512\n",
      "Epoch 69/100\n",
      "242/242 [==============================] - 0s 159us/step - loss: 0.3545 - acc: 0.8430\n",
      "Epoch 70/100\n",
      "242/242 [==============================] - 0s 162us/step - loss: 0.3678 - acc: 0.8512\n",
      "Epoch 71/100\n",
      "242/242 [==============================] - 0s 163us/step - loss: 0.3948 - acc: 0.8306\n",
      "Epoch 72/100\n",
      "242/242 [==============================] - 0s 188us/step - loss: 0.4032 - acc: 0.8347\n",
      "Epoch 73/100\n",
      "242/242 [==============================] - 0s 160us/step - loss: 0.3583 - acc: 0.8512\n",
      "Epoch 74/100\n",
      "242/242 [==============================] - 0s 160us/step - loss: 0.3539 - acc: 0.8512\n",
      "Epoch 75/100\n",
      "242/242 [==============================] - 0s 162us/step - loss: 0.3606 - acc: 0.8554\n",
      "Epoch 76/100\n",
      "242/242 [==============================] - 0s 198us/step - loss: 0.3553 - acc: 0.8306\n",
      "Epoch 77/100\n",
      "242/242 [==============================] - 0s 210us/step - loss: 0.3625 - acc: 0.8512\n",
      "Epoch 78/100\n",
      "242/242 [==============================] - 0s 202us/step - loss: 0.3938 - acc: 0.8264\n",
      "Epoch 79/100\n",
      "242/242 [==============================] - 0s 175us/step - loss: 0.3847 - acc: 0.8306\n",
      "Epoch 80/100\n",
      "242/242 [==============================] - 0s 169us/step - loss: 0.3711 - acc: 0.8264\n",
      "Epoch 81/100\n",
      "242/242 [==============================] - 0s 162us/step - loss: 0.3599 - acc: 0.8388\n",
      "Epoch 82/100\n",
      "242/242 [==============================] - 0s 162us/step - loss: 0.3959 - acc: 0.8223\n",
      "Epoch 83/100\n",
      "242/242 [==============================] - 0s 179us/step - loss: 0.3597 - acc: 0.8471\n",
      "Epoch 84/100\n",
      "242/242 [==============================] - 0s 194us/step - loss: 0.3564 - acc: 0.8347\n",
      "Epoch 85/100\n",
      "242/242 [==============================] - 0s 191us/step - loss: 0.3711 - acc: 0.8306\n",
      "Epoch 86/100\n",
      "242/242 [==============================] - 0s 182us/step - loss: 0.3616 - acc: 0.8306\n",
      "Epoch 87/100\n",
      "242/242 [==============================] - 0s 175us/step - loss: 0.3537 - acc: 0.8471\n",
      "Epoch 88/100\n",
      "242/242 [==============================] - 0s 186us/step - loss: 0.3518 - acc: 0.8512\n",
      "Epoch 89/100\n",
      "242/242 [==============================] - 0s 189us/step - loss: 0.3548 - acc: 0.8347\n",
      "Epoch 90/100\n",
      "242/242 [==============================] - 0s 160us/step - loss: 0.3672 - acc: 0.8306\n",
      "Epoch 91/100\n",
      "242/242 [==============================] - 0s 161us/step - loss: 0.3695 - acc: 0.8430\n",
      "Epoch 92/100\n",
      "242/242 [==============================] - 0s 158us/step - loss: 0.3800 - acc: 0.8264\n",
      "Epoch 93/100\n",
      "242/242 [==============================] - 0s 160us/step - loss: 0.3821 - acc: 0.8347\n",
      "Epoch 94/100\n",
      "242/242 [==============================] - 0s 162us/step - loss: 0.3749 - acc: 0.8347\n",
      "Epoch 95/100\n",
      "242/242 [==============================] - 0s 163us/step - loss: 0.3504 - acc: 0.8471\n",
      "Epoch 96/100\n",
      "242/242 [==============================] - 0s 185us/step - loss: 0.3511 - acc: 0.8512\n",
      "Epoch 97/100\n",
      "242/242 [==============================] - 0s 216us/step - loss: 0.3598 - acc: 0.8471\n",
      "Epoch 98/100\n",
      "242/242 [==============================] - 0s 201us/step - loss: 0.3601 - acc: 0.8430\n",
      "Epoch 99/100\n",
      "242/242 [==============================] - 0s 191us/step - loss: 0.3714 - acc: 0.8595\n",
      "Epoch 100/100\n",
      "242/242 [==============================] - 0s 195us/step - loss: 0.3780 - acc: 0.8471\n"
     ]
    },
    {
     "data": {
      "text/plain": [
       "<keras.callbacks.History at 0x276390c7f98>"
      ]
     },
     "execution_count": 9,
     "metadata": {},
     "output_type": "execute_result"
    }
   ],
   "source": [
    "classifier.fit(X_train, y_train, batch_size = 10, nb_epoch = 100)"
   ]
  },
  {
   "cell_type": "code",
   "execution_count": 55,
   "metadata": {},
   "outputs": [
    {
     "name": "stdout",
     "output_type": "stream",
     "text": [
      "accuracy of the model:  86.88524590163934\n"
     ]
    }
   ],
   "source": [
    "y_pred = classifier.predict(X_test)\n",
    "\n",
    "import seaborn as sns\n",
    "from sklearn.metrics import confusion_matrix\n",
    "cm = confusion_matrix(y_test, y_pred.round())\n",
    "#sns.heatmap(cm,annot=True,cmap=\"Oranges\",fmt=\"d\",cbar=False)\n",
    "#accuracy score\n",
    "from sklearn.metrics import accuracy_score\n",
    "ac=accuracy_score(y_test, y_pred.round())\n",
    "print('accuracy of the model: ',ac*100)\n",
    "ac=ac*100\n",
    "\n"
   ]
  },
  {
   "cell_type": "code",
   "execution_count": 11,
   "metadata": {},
   "outputs": [],
   "source": [
    "data = pd.read_csv('https://raw.githubusercontent.com/Monk5088/College-project/master/heart.csv')"
   ]
  },
  {
   "cell_type": "code",
   "execution_count": 12,
   "metadata": {},
   "outputs": [],
   "source": [
    "import numpy as np # linear algebra\n",
    "import pandas as pd # data processing, CSV file I/O (e.g. pd.read_csv)\n",
    "import matplotlib.pyplot as plt\n",
    "import seaborn as sns # used for plot interactive graph.\n",
    "from sklearn.ensemble import RandomForestClassifier\n",
    "from sklearn.linear_model import LogisticRegression\n",
    "from sklearn.metrics import average_precision_score\n",
    "from sklearn.model_selection import cross_val_score\n",
    "from sklearn.metrics import precision_recall_curve\n",
    "from sklearn.neighbors import KNeighborsClassifier\n",
    "from sklearn.tree import DecisionTreeClassifier\n",
    "from sklearn.metrics import confusion_matrix\n",
    "from sklearn.metrics import accuracy_score\n",
    "from sklearn.naive_bayes import GaussianNB\n",
    "from sklearn.metrics import roc_curve\n",
    "from sklearn.metrics import f1_score\n",
    "from sklearn.metrics import auc\n",
    "from sklearn.svm import SVC\n",
    "%matplotlib inline\n",
    "\n"
   ]
  },
  {
   "cell_type": "code",
   "execution_count": 13,
   "metadata": {},
   "outputs": [],
   "source": [
    "x_data= data.drop('target',axis=1)\n",
    "y=data['target']"
   ]
  },
  {
   "cell_type": "code",
   "execution_count": 14,
   "metadata": {},
   "outputs": [
    {
     "name": "stderr",
     "output_type": "stream",
     "text": [
      "C:\\Users\\akhil\\Anaconda3\\lib\\site-packages\\ipykernel_launcher.py:6: SettingWithCopyWarning: \n",
      "A value is trying to be set on a copy of a slice from a DataFrame\n",
      "\n",
      "See the caveats in the documentation: http://pandas.pydata.org/pandas-docs/stable/indexing.html#indexing-view-versus-copy\n",
      "  \n",
      "C:\\Users\\akhil\\Anaconda3\\lib\\site-packages\\ipykernel_launcher.py:9: SettingWithCopyWarning: \n",
      "A value is trying to be set on a copy of a slice from a DataFrame\n",
      "\n",
      "See the caveats in the documentation: http://pandas.pydata.org/pandas-docs/stable/indexing.html#indexing-view-versus-copy\n",
      "  if __name__ == '__main__':\n",
      "C:\\Users\\akhil\\Anaconda3\\lib\\site-packages\\ipykernel_launcher.py:14: SettingWithCopyWarning: \n",
      "A value is trying to be set on a copy of a slice from a DataFrame\n",
      "\n",
      "See the caveats in the documentation: http://pandas.pydata.org/pandas-docs/stable/indexing.html#indexing-view-versus-copy\n",
      "  \n",
      "C:\\Users\\akhil\\Anaconda3\\lib\\site-packages\\ipykernel_launcher.py:15: SettingWithCopyWarning: \n",
      "A value is trying to be set on a copy of a slice from a DataFrame\n",
      "\n",
      "See the caveats in the documentation: http://pandas.pydata.org/pandas-docs/stable/indexing.html#indexing-view-versus-copy\n",
      "  from ipykernel import kernelapp as app\n",
      "C:\\Users\\akhil\\Anaconda3\\lib\\site-packages\\ipykernel_launcher.py:17: SettingWithCopyWarning: \n",
      "A value is trying to be set on a copy of a slice from a DataFrame\n",
      "\n",
      "See the caveats in the documentation: http://pandas.pydata.org/pandas-docs/stable/indexing.html#indexing-view-versus-copy\n",
      "C:\\Users\\akhil\\Anaconda3\\lib\\site-packages\\ipykernel_launcher.py:21: SettingWithCopyWarning: \n",
      "A value is trying to be set on a copy of a slice from a DataFrame\n",
      "\n",
      "See the caveats in the documentation: http://pandas.pydata.org/pandas-docs/stable/indexing.html#indexing-view-versus-copy\n",
      "C:\\Users\\akhil\\Anaconda3\\lib\\site-packages\\ipykernel_launcher.py:22: SettingWithCopyWarning: \n",
      "A value is trying to be set on a copy of a slice from a DataFrame\n",
      "\n",
      "See the caveats in the documentation: http://pandas.pydata.org/pandas-docs/stable/indexing.html#indexing-view-versus-copy\n",
      "C:\\Users\\akhil\\Anaconda3\\lib\\site-packages\\ipykernel_launcher.py:24: SettingWithCopyWarning: \n",
      "A value is trying to be set on a copy of a slice from a DataFrame\n",
      "\n",
      "See the caveats in the documentation: http://pandas.pydata.org/pandas-docs/stable/indexing.html#indexing-view-versus-copy\n",
      "C:\\Users\\akhil\\Anaconda3\\lib\\site-packages\\ipykernel_launcher.py:28: SettingWithCopyWarning: \n",
      "A value is trying to be set on a copy of a slice from a DataFrame\n",
      "\n",
      "See the caveats in the documentation: http://pandas.pydata.org/pandas-docs/stable/indexing.html#indexing-view-versus-copy\n",
      "C:\\Users\\akhil\\Anaconda3\\lib\\site-packages\\ipykernel_launcher.py:29: SettingWithCopyWarning: \n",
      "A value is trying to be set on a copy of a slice from a DataFrame\n",
      "\n",
      "See the caveats in the documentation: http://pandas.pydata.org/pandas-docs/stable/indexing.html#indexing-view-versus-copy\n",
      "C:\\Users\\akhil\\Anaconda3\\lib\\site-packages\\ipykernel_launcher.py:30: SettingWithCopyWarning: \n",
      "A value is trying to be set on a copy of a slice from a DataFrame\n",
      "\n",
      "See the caveats in the documentation: http://pandas.pydata.org/pandas-docs/stable/indexing.html#indexing-view-versus-copy\n"
     ]
    }
   ],
   "source": [
    "data.columns = ['age', 'sex', 'chest_pain_type', 'resting_blood_pressure', 'cholesterol', 'fasting_blood_sugar', 'rest_ecg', 'max_heart_rate_achieved',\n",
    "       'exercise_induced_angina', 'st_depression', 'st_slope', 'num_major_vessels', 'thalassemia', 'target']\n",
    "\n",
    "data.columns\n",
    "\n",
    "data['sex'][data['sex'] == 0] = 'female'\n",
    "data['sex'][data['sex'] == 1] = 'male'\n",
    "\n",
    "data['chest_pain_type'][data['chest_pain_type'] == 1] = 'typical angina'\n",
    "data['chest_pain_type'][data['chest_pain_type'] == 2] = 'atypical angina'\n",
    "data['chest_pain_type'][data['chest_pain_type'] == 3] = 'non-anginal pain'\n",
    "data['chest_pain_type'][data['chest_pain_type'] == 4] = 'asymptomatic'\n",
    "\n",
    "data['fasting_blood_sugar'][data['fasting_blood_sugar'] == 0] = 'lower than 120mg/ml'\n",
    "data['fasting_blood_sugar'][data['fasting_blood_sugar'] == 1] = 'greater than 120mg/ml'\n",
    "\n",
    "data['rest_ecg'][data['rest_ecg'] == 0] = 'normal'\n",
    "data['rest_ecg'][data['rest_ecg'] == 1] = 'ST-T wave abnormality'\n",
    "data['rest_ecg'][data['rest_ecg'] == 2] = 'left ventricular hypertrophy'\n",
    "\n",
    "data['exercise_induced_angina'][data['exercise_induced_angina'] == 0] = 'no'\n",
    "data['exercise_induced_angina'][data['exercise_induced_angina'] == 1] = 'yes'\n",
    "\n",
    "data['st_slope'][data['st_slope'] == 1] = 'upsloping'\n",
    "data['st_slope'][data['st_slope'] == 2] = 'flat'\n",
    "data['st_slope'][data['st_slope'] == 3] = 'downsloping'\n",
    "\n",
    "data['thalassemia'][data['thalassemia'] == 1] = 'normal'\n",
    "data['thalassemia'][data['thalassemia'] == 2] = 'fixed defect'\n",
    "data['thalassemia'][data['thalassemia'] == 3] = 'reversable defect'\n",
    "\n",
    "data['sex'] = data['sex'].astype('object')\n",
    "data['chest_pain_type'] = data['chest_pain_type'].astype('object')\n",
    "data['fasting_blood_sugar'] = data['fasting_blood_sugar'].astype('object')\n",
    "data['rest_ecg'] = data['rest_ecg'].astype('object')\n",
    "data['exercise_induced_angina'] = data['exercise_induced_angina'].astype('object')\n",
    "data['st_slope'] = data['st_slope'].astype('object')\n",
    "data['thalassemia'] = data['thalassemia'].astype('object')\n",
    "\n",
    "# taking the labels out from the data\n",
    "\n",
    "y = data['target']\n",
    "\n",
    "data = data.drop('target', axis = 1)"
   ]
  },
  {
   "cell_type": "code",
   "execution_count": 15,
   "metadata": {},
   "outputs": [],
   "source": [
    "x = (x_data - np.min(x_data)) / (np.max(x_data) - np.min(x_data)).values"
   ]
  },
  {
   "cell_type": "code",
   "execution_count": 16,
   "metadata": {},
   "outputs": [],
   "source": [
    "from sklearn.model_selection import train_test_split\n",
    "x_train, x_test, y_train, y_test = train_test_split(x,y,test_size = 0.2,random_state=0)"
   ]
  },
  {
   "cell_type": "code",
   "execution_count": 17,
   "metadata": {},
   "outputs": [],
   "source": [
    "x_train = x_train.T\n",
    "y_train = y_train.T\n",
    "x_test = x_test.T\n",
    "y_test = y_test.T"
   ]
  },
  {
   "cell_type": "code",
   "execution_count": 40,
   "metadata": {},
   "outputs": [
    {
     "name": "stdout",
     "output_type": "stream",
     "text": [
      "Test Accuracy 85.25%\n"
     ]
    },
    {
     "name": "stderr",
     "output_type": "stream",
     "text": [
      "C:\\Users\\akhil\\Anaconda3\\lib\\site-packages\\sklearn\\linear_model\\logistic.py:433: FutureWarning: Default solver will be changed to 'lbfgs' in 0.22. Specify a solver to silence this warning.\n",
      "  FutureWarning)\n"
     ]
    }
   ],
   "source": [
    "accuracies = {}\n",
    "\n",
    "lr = LogisticRegression()\n",
    "lr.fit(x_train.T,y_train.T)\n",
    "uu= lr.score(x_test.T,y_test.T)*100\n",
    "\n",
    "accuracies['Logistic Regression'] = uu\n",
    "print(\"Test Accuracy {:.2f}%\".format(uu))"
   ]
  },
  {
   "cell_type": "code",
   "execution_count": 41,
   "metadata": {},
   "outputs": [
    {
     "name": "stdout",
     "output_type": "stream",
     "text": [
      "83.60655737704919\n"
     ]
    }
   ],
   "source": [
    "from sklearn.neighbors import KNeighborsClassifier\n",
    "knn = KNeighborsClassifier(n_neighbors = 2)  # n_neighbors means k\n",
    "knn.fit(x_train.T, y_train.T)\n",
    "prediction = knn.predict(x_test.T)\n",
    "u=(knn.score(x_test.T, y_test.T)*100)\n",
    "print(u)"
   ]
  },
  {
   "cell_type": "code",
   "execution_count": 52,
   "metadata": {},
   "outputs": [
    {
     "name": "stdout",
     "output_type": "stream",
     "text": [
      "Decision Tree Test Accuracy 78.69%\n"
     ]
    }
   ],
   "source": [
    "from sklearn.tree import DecisionTreeClassifier\n",
    "dtc = DecisionTreeClassifier()\n",
    "dtc.fit(x_train.T, y_train.T)\n",
    "\n",
    "uuu = dtc.score(x_test.T, y_test.T)*100\n",
    "accuracies['Decision Tree'] = uuu\n",
    "print(\"Decision Tree Test Accuracy {:.2f}%\".format(uuu))"
   ]
  },
  {
   "cell_type": "code",
   "execution_count": 56,
   "metadata": {},
   "outputs": [
    {
     "data": {
      "image/png": "[encoded data removed]",
      "text/plain": [
       "<Figure size 432x288 with 1 Axes>"
      ]
     },
     "metadata": {},
     "output_type": "display_data"
    }
   ],
   "source": [
    "objects = (\"Neural Network\", \"LogisticRegression\",\"KNN\",\"Desicion Tree\")\n",
    "y_pos = np.arange(len(objects))\n",
    "performance = [ac,uu,u,uuu]\n",
    "\n",
    "plt.bar(y_pos, performance, align='center', alpha=0.5)\n",
    "plt.xticks(y_pos, objects)\n",
    "plt.ylabel('Usage')\n",
    "plt.title('Programming language usage')\n",
    "\n",
    "plt.show()"
   ]
  },
  {
   "cell_type": "code",
   "execution_count": null,
   "metadata": {},
   "outputs": [],
   "source": []
  },
  {
   "cell_type": "code",
   "execution_count": null,
   "metadata": {},
   "outputs": [],
   "source": []
  }
 ],
 "metadata": {
  "kernelspec": {
   "display_name": "Python 3",
   "language": "python",
   "name": "python3"
  },
  "language_info": {
   "codemirror_mode": {
    "name": "ipython",
    "version": 3
   },
   "file_extension": ".py",
   "mimetype": "text/x-python",
   "name": "python",
   "nbconvert_exporter": "python",
   "pygments_lexer": "ipython3",
   "version": "3.6.7"
  }
 },
 "nbformat": 4,
 "nbformat_minor": 2
}
