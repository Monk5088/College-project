{
 "cells": [
  {
   "cell_type": "code",
   "execution_count": 1,
   "metadata": {},
   "outputs": [
    {
     "name": "stdout",
     "output_type": "stream",
     "text": [
      "<class 'pandas.core.frame.DataFrame'>\n",
      "RangeIndex: 303 entries, 0 to 302\n",
      "Data columns (total 14 columns):\n",
      "age         303 non-null int64\n",
      "sex         303 non-null int64\n",
      "cp          303 non-null int64\n",
      "trestbps    303 non-null int64\n",
      "chol        303 non-null int64\n",
      "fbs         303 non-null int64\n",
      "restecg     303 non-null int64\n",
      "thalach     303 non-null int64\n",
      "exang       303 non-null int64\n",
      "oldpeak     303 non-null float64\n",
      "slope       303 non-null int64\n",
      "ca          303 non-null int64\n",
      "thal        303 non-null int64\n",
      "target      303 non-null int64\n",
      "dtypes: float64(1), int64(13)\n",
      "memory usage: 33.2 KB\n",
      "Number of rows in the dataset:  303\n",
      "Number of columns in the dataset:  14\n"
     ]
    }
   ],
   "source": [
    "import warnings\n",
    "warnings.filterwarnings('ignore')\n",
    "warnings.filterwarnings(action='ignore',category=DeprecationWarning)\n",
    "warnings.filterwarnings(action='ignore',category=FutureWarning)\n",
    "import pandas as pd\n",
    "import numpy as np\n",
    "import matplotlib.pyplot as plt\n",
    "import seaborn as sns\n",
    "\n",
    "%matplotlib inline\n",
    "df = pd.read_csv('https://raw.githubusercontent.com/Monk5088/College-project/master/heart.csv')\n",
    "df.head(3)\n",
    "df.info()\n",
    "print('Number of rows in the dataset: ',df.shape[0])\n",
    "print('Number of columns in the dataset: ',df.shape[1])"
   ]
  },
  {
   "cell_type": "code",
   "execution_count": 2,
   "metadata": {},
   "outputs": [
    {
     "data": {
      "text/html": [
       "<div>\n",
       "<style scoped>\n",
       "    .dataframe tbody tr th:only-of-type {\n",
       "        vertical-align: middle;\n",
       "    }\n",
       "\n",
       "    .dataframe tbody tr th {\n",
       "        vertical-align: top;\n",
       "    }\n",
       "\n",
       "    .dataframe thead th {\n",
       "        text-align: right;\n",
       "    }\n",
       "</style>\n",
       "<table border=\"1\" class=\"dataframe\">\n",
       "  <thead>\n",
       "    <tr style=\"text-align: right;\">\n",
       "      <th></th>\n",
       "      <th>age</th>\n",
       "      <th>sex</th>\n",
       "      <th>cp</th>\n",
       "      <th>trestbps</th>\n",
       "      <th>chol</th>\n",
       "      <th>fbs</th>\n",
       "      <th>restecg</th>\n",
       "      <th>thalach</th>\n",
       "      <th>exang</th>\n",
       "      <th>oldpeak</th>\n",
       "      <th>slope</th>\n",
       "      <th>ca</th>\n",
       "      <th>thal</th>\n",
       "      <th>target</th>\n",
       "    </tr>\n",
       "  </thead>\n",
       "  <tbody>\n",
       "    <tr>\n",
       "      <th>count</th>\n",
       "      <td>303.000000</td>\n",
       "      <td>303.000000</td>\n",
       "      <td>303.000000</td>\n",
       "      <td>303.000000</td>\n",
       "      <td>303.000000</td>\n",
       "      <td>303.000000</td>\n",
       "      <td>303.000000</td>\n",
       "      <td>303.000000</td>\n",
       "      <td>303.000000</td>\n",
       "      <td>303.000000</td>\n",
       "      <td>303.000000</td>\n",
       "      <td>303.000000</td>\n",
       "      <td>303.000000</td>\n",
       "      <td>303.000000</td>\n",
       "    </tr>\n",
       "    <tr>\n",
       "      <th>mean</th>\n",
       "      <td>54.366337</td>\n",
       "      <td>0.683168</td>\n",
       "      <td>0.966997</td>\n",
       "      <td>131.623762</td>\n",
       "      <td>246.264026</td>\n",
       "      <td>0.148515</td>\n",
       "      <td>0.528053</td>\n",
       "      <td>149.646865</td>\n",
       "      <td>0.326733</td>\n",
       "      <td>1.039604</td>\n",
       "      <td>1.399340</td>\n",
       "      <td>0.729373</td>\n",
       "      <td>2.313531</td>\n",
       "      <td>0.544554</td>\n",
       "    </tr>\n",
       "    <tr>\n",
       "      <th>std</th>\n",
       "      <td>9.082101</td>\n",
       "      <td>0.466011</td>\n",
       "      <td>1.032052</td>\n",
       "      <td>17.538143</td>\n",
       "      <td>51.830751</td>\n",
       "      <td>0.356198</td>\n",
       "      <td>0.525860</td>\n",
       "      <td>22.905161</td>\n",
       "      <td>0.469794</td>\n",
       "      <td>1.161075</td>\n",
       "      <td>0.616226</td>\n",
       "      <td>1.022606</td>\n",
       "      <td>0.612277</td>\n",
       "      <td>0.498835</td>\n",
       "    </tr>\n",
       "    <tr>\n",
       "      <th>min</th>\n",
       "      <td>29.000000</td>\n",
       "      <td>0.000000</td>\n",
       "      <td>0.000000</td>\n",
       "      <td>94.000000</td>\n",
       "      <td>126.000000</td>\n",
       "      <td>0.000000</td>\n",
       "      <td>0.000000</td>\n",
       "      <td>71.000000</td>\n",
       "      <td>0.000000</td>\n",
       "      <td>0.000000</td>\n",
       "      <td>0.000000</td>\n",
       "      <td>0.000000</td>\n",
       "      <td>0.000000</td>\n",
       "      <td>0.000000</td>\n",
       "    </tr>\n",
       "    <tr>\n",
       "      <th>25%</th>\n",
       "      <td>47.500000</td>\n",
       "      <td>0.000000</td>\n",
       "      <td>0.000000</td>\n",
       "      <td>120.000000</td>\n",
       "      <td>211.000000</td>\n",
       "      <td>0.000000</td>\n",
       "      <td>0.000000</td>\n",
       "      <td>133.500000</td>\n",
       "      <td>0.000000</td>\n",
       "      <td>0.000000</td>\n",
       "      <td>1.000000</td>\n",
       "      <td>0.000000</td>\n",
       "      <td>2.000000</td>\n",
       "      <td>0.000000</td>\n",
       "    </tr>\n",
       "    <tr>\n",
       "      <th>50%</th>\n",
       "      <td>55.000000</td>\n",
       "      <td>1.000000</td>\n",
       "      <td>1.000000</td>\n",
       "      <td>130.000000</td>\n",
       "      <td>240.000000</td>\n",
       "      <td>0.000000</td>\n",
       "      <td>1.000000</td>\n",
       "      <td>153.000000</td>\n",
       "      <td>0.000000</td>\n",
       "      <td>0.800000</td>\n",
       "      <td>1.000000</td>\n",
       "      <td>0.000000</td>\n",
       "      <td>2.000000</td>\n",
       "      <td>1.000000</td>\n",
       "    </tr>\n",
       "    <tr>\n",
       "      <th>75%</th>\n",
       "      <td>61.000000</td>\n",
       "      <td>1.000000</td>\n",
       "      <td>2.000000</td>\n",
       "      <td>140.000000</td>\n",
       "      <td>274.500000</td>\n",
       "      <td>0.000000</td>\n",
       "      <td>1.000000</td>\n",
       "      <td>166.000000</td>\n",
       "      <td>1.000000</td>\n",
       "      <td>1.600000</td>\n",
       "      <td>2.000000</td>\n",
       "      <td>1.000000</td>\n",
       "      <td>3.000000</td>\n",
       "      <td>1.000000</td>\n",
       "    </tr>\n",
       "    <tr>\n",
       "      <th>max</th>\n",
       "      <td>77.000000</td>\n",
       "      <td>1.000000</td>\n",
       "      <td>3.000000</td>\n",
       "      <td>200.000000</td>\n",
       "      <td>564.000000</td>\n",
       "      <td>1.000000</td>\n",
       "      <td>2.000000</td>\n",
       "      <td>202.000000</td>\n",
       "      <td>1.000000</td>\n",
       "      <td>6.200000</td>\n",
       "      <td>2.000000</td>\n",
       "      <td>4.000000</td>\n",
       "      <td>3.000000</td>\n",
       "      <td>1.000000</td>\n",
       "    </tr>\n",
       "  </tbody>\n",
       "</table>\n",
       "</div>"
      ],
      "text/plain": [
       "              age         sex          cp    trestbps        chol         fbs  \\\n",
       "count  303.000000  303.000000  303.000000  303.000000  303.000000  303.000000   \n",
       "mean    54.366337    0.683168    0.966997  131.623762  246.264026    0.148515   \n",
       "std      9.082101    0.466011    1.032052   17.538143   51.830751    0.356198   \n",
       "min     29.000000    0.000000    0.000000   94.000000  126.000000    0.000000   \n",
       "25%     47.500000    0.000000    0.000000  120.000000  211.000000    0.000000   \n",
       "50%     55.000000    1.000000    1.000000  130.000000  240.000000    0.000000   \n",
       "75%     61.000000    1.000000    2.000000  140.000000  274.500000    0.000000   \n",
       "max     77.000000    1.000000    3.000000  200.000000  564.000000    1.000000   \n",
       "\n",
       "          restecg     thalach       exang     oldpeak       slope          ca  \\\n",
       "count  303.000000  303.000000  303.000000  303.000000  303.000000  303.000000   \n",
       "mean     0.528053  149.646865    0.326733    1.039604    1.399340    0.729373   \n",
       "std      0.525860   22.905161    0.469794    1.161075    0.616226    1.022606   \n",
       "min      0.000000   71.000000    0.000000    0.000000    0.000000    0.000000   \n",
       "25%      0.000000  133.500000    0.000000    0.000000    1.000000    0.000000   \n",
       "50%      1.000000  153.000000    0.000000    0.800000    1.000000    0.000000   \n",
       "75%      1.000000  166.000000    1.000000    1.600000    2.000000    1.000000   \n",
       "max      2.000000  202.000000    1.000000    6.200000    2.000000    4.000000   \n",
       "\n",
       "             thal      target  \n",
       "count  303.000000  303.000000  \n",
       "mean     2.313531    0.544554  \n",
       "std      0.612277    0.498835  \n",
       "min      0.000000    0.000000  \n",
       "25%      2.000000    0.000000  \n",
       "50%      2.000000    1.000000  \n",
       "75%      3.000000    1.000000  \n",
       "max      3.000000    1.000000  "
      ]
     },
     "execution_count": 2,
     "metadata": {},
     "output_type": "execute_result"
    }
   ],
   "source": [
    "df.describe()"
   ]
  },
  {
   "cell_type": "code",
   "execution_count": 3,
   "metadata": {},
   "outputs": [],
   "source": [
    "X= df.drop('target',axis=1)\n",
    "y=df['target']\n",
    "from sklearn.model_selection import train_test_split\n",
    "X_train,X_test,y_train,y_test = train_test_split(X,y,test_size=.3,random_state=42)"
   ]
  },
  {
   "cell_type": "code",
   "execution_count": 15,
   "metadata": {},
   "outputs": [],
   "source": [
    "from sklearn.preprocessing import StandardScaler\n",
    "from sklearn.neighbors import KNeighborsClassifier\n",
    "from sklearn.model_selection import GridSearchCV\n",
    "knn =KNeighborsClassifier()\n",
    "params = {'n_neighbors':list(range(1,20)),\n",
    "    'p':[1, 2, 3, 4,5,6,7,8,9,10],\n",
    "    'leaf_size':list(range(1,20)),\n",
    "    'weights':['uniform', 'distance']\n",
    "         }\n",
    "model = GridSearchCV(knn,params,cv=3, n_jobs=-1)\n",
    "model.fit(X_train,y_train)\n",
    "predict = model.predict(X_test)"
   ]
  },
  {
   "cell_type": "code",
   "execution_count": 5,
   "metadata": {},
   "outputs": [
    {
     "name": "stdout",
     "output_type": "stream",
     "text": [
      "Accuracy Score:  0.7032967032967034\n",
      "Using k-NN we get an accuracy score of:  70.33 %\n"
     ]
    }
   ],
   "source": [
    "from sklearn.metrics import accuracy_score,confusion_matrix,roc_curve\n",
    "print('Accuracy Score: ',accuracy_score(y_test,predict))\n",
    "print('Using k-NN we get an accuracy score of: ',\n",
    "      round(accuracy_score(y_test,predict),5)*100,'%')\n",
    "y_probabilities = model.predict_proba(X_test)[:,1]\n",
    "false_positive_rate_knn,true_positive_rate_knn,threshold_knn = roc_curve(y_test,y_probabilities)"
   ]
  },
  {
   "cell_type": "code",
   "execution_count": 6,
   "metadata": {},
   "outputs": [
    {
     "data": {
      "text/plain": [
       "LogisticRegression(C=1.0, class_weight=None, dual=False, fit_intercept=True,\n",
       "          intercept_scaling=1, max_iter=100, multi_class='warn',\n",
       "          n_jobs=None, penalty='l2', random_state=0, solver='warn',\n",
       "          tol=0.0001, verbose=0, warm_start=False)"
      ]
     },
     "execution_count": 6,
     "metadata": {},
     "output_type": "execute_result"
    }
   ],
   "source": [
    "from sklearn.linear_model import LogisticRegression\n",
    "X_train,X_test,y_train,y_test=train_test_split(X,y,test_size=0.3,random_state=0)\n",
    "classifier_log=LogisticRegression(random_state=0)\n",
    "classifier_log.fit(X_train,y_train)"
   ]
  },
  {
   "cell_type": "code",
   "execution_count": 7,
   "metadata": {},
   "outputs": [],
   "source": [
    "y_predict=classifier_log.predict(X_test)\n",
    "from sklearn.metrics import accuracy_score,confusion_matrix"
   ]
  },
  {
   "cell_type": "code",
   "execution_count": 8,
   "metadata": {},
   "outputs": [
    {
     "name": "stdout",
     "output_type": "stream",
     "text": [
      "Accuracy Score:  0.8021978021978022\n",
      "Using Logistic Regression we get an accuracy score of:  80.22 %\n"
     ]
    }
   ],
   "source": [
    "accuracy=accuracy_score(y_test,y_predict)\n",
    "print('Accuracy Score: ',accuracy)\n",
    "print('Using Logistic Regression we get an accuracy score of: ',\n",
    "      round(accuracy,5)*100,'%')\n",
    "log_probabilities=classifier_log.predict_proba(X_test)[:,1]\n",
    "false_positive_rate_log,true_positive_rate_log,threshold_log = roc_curve(y_test,log_probabilities)"
   ]
  },
  {
   "cell_type": "code",
   "execution_count": 16,
   "metadata": {},
   "outputs": [],
   "source": [
    "import sys\n",
    "from sklearn.preprocessing import StandardScaler\n",
    "scaler = StandardScaler()\n",
    "X_train_scaled = scaler.fit_transform(X_train)\n",
    "X_train = pd.DataFrame(X_train_scaled)\n",
    "X_test_scaled = scaler.transform(X_test)\n",
    "X_test = pd.DataFrame(X_test_scaled)"
   ]
  },
  {
   "cell_type": "code",
   "execution_count": 14,
   "metadata": {},
   "outputs": [],
   "source": [
    "from sklearn.model_selection import GridSearchCV\n",
    "from sklearn.tree import DecisionTreeClassifier\n",
    "dtree= DecisionTreeClassifier(random_state=7)\n",
    "#Setting parameters for GridSearchCV\n",
    "params = {'max_features': ['auto', 'sqrt', 'log2'],\n",
    "          'min_samples_split': [2,3,4,5,6,7,8,9,10,11,12,13,14,15], \n",
    "          'min_samples_leaf':[1,2,3,4,5,6,7,8,9,10,11]}\n",
    "tree_model = GridSearchCV(dtree, param_grid=params, n_jobs=-1)\n",
    "tree_model.fit(X_train,y_train)\n",
    "predict = tree_model.predict(X_test)"
   ]
  },
  {
   "cell_type": "code",
   "execution_count": 17,
   "metadata": {},
   "outputs": [
    {
     "name": "stdout",
     "output_type": "stream",
     "text": [
      "Accuracy Score:  0.8131868131868132\n",
      "Using Decision Tree we get an accuracy score of:  81.319 %\n"
     ]
    }
   ],
   "source": [
    "tree_model.fit(X_train,y_train)\n",
    "import warnings\n",
    "from sklearn.metrics import accuracy_score\n",
    "print('Accuracy Score: ',accuracy_score(y_test,predict))\n",
    "print('Using Decision Tree we get an accuracy score of: ',round(accuracy_score(y_test,predict),5)*100,'%')"
   ]
  },
  {
   "cell_type": "code",
   "execution_count": 18,
   "metadata": {},
   "outputs": [
    {
     "name": "stderr",
     "output_type": "stream",
     "text": [
      "Using TensorFlow backend.\n"
     ]
    }
   ],
   "source": [
    "from sklearn.model_selection import train_test_split\n",
    "X_train, X_test, y_train, y_test = train_test_split(X, y, test_size = 0.2, random_state = 0)\n",
    "from keras.models import Sequential\n",
    "from keras.layers import Conv2D, MaxPooling2D\n",
    "from keras.layers import Activation, Dropout, Flatten, Dense\n",
    "import keras\n",
    "from keras.models import Sequential\n",
    "from keras.layers import Dense"
   ]
  },
  {
   "cell_type": "code",
   "execution_count": 19,
   "metadata": {},
   "outputs": [
    {
     "data": {
      "text/plain": [
       "0.5408496732026145"
      ]
     },
     "execution_count": 19,
     "metadata": {},
     "output_type": "execute_result"
    }
   ],
   "source": [
    "from sklearn.metrics import roc_auc_score,roc_curve\n",
    "#Get predicted probabilites\n",
    "target_probailities_tree = tree_model.predict_proba(X_test)[:,1]\n",
    "#Create true and false positive rates\n",
    "tree_false_positive_rate,tree_true_positive_rate,tree_threshold = roc_curve(y_test,target_probailities_tree)\n",
    "roc_auc_score(y_test,target_probailities_tree)\n"
   ]
  },
  {
   "cell_type": "code",
   "execution_count": 20,
   "metadata": {},
   "outputs": [],
   "source": [
    "df = pd.read_csv('https://raw.githubusercontent.com/Monk5088/College-project/master/heart.csv')"
   ]
  },
  {
   "cell_type": "code",
   "execution_count": 21,
   "metadata": {},
   "outputs": [],
   "source": [
    "chest_pain=pd.get_dummies(df['cp'],prefix='cp',drop_first=True)\n",
    "df=pd.concat([df,chest_pain],axis=1)\n",
    "df.drop(['cp'],axis=1,inplace=True)\n",
    "sp=pd.get_dummies(df['slope'],prefix='slope')\n",
    "th=pd.get_dummies(df['thal'],prefix='thal')\n",
    "rest_ecg=pd.get_dummies(df['restecg'],prefix='restecg')\n",
    "frames=[df,sp,th,rest_ecg]\n",
    "df=pd.concat(frames,axis=1)\n",
    "df.drop(['slope','thal','restecg'],axis=1,inplace=True)"
   ]
  },
  {
   "cell_type": "code",
   "execution_count": 22,
   "metadata": {},
   "outputs": [],
   "source": [
    "X = df.drop(['target'], axis = 1)\n",
    "y = df.target.values"
   ]
  },
  {
   "cell_type": "code",
   "execution_count": 23,
   "metadata": {},
   "outputs": [],
   "source": [
    "from sklearn.model_selection import train_test_split\n",
    "X_train, X_test, y_train, y_test = train_test_split(X, y, test_size = 0.2, random_state = 0)"
   ]
  },
  {
   "cell_type": "code",
   "execution_count": 25,
   "metadata": {},
   "outputs": [],
   "source": [
    "warnings.filterwarnings(action='ignore',category=UserWarning)\n",
    "classifier = Sequential()\n",
    "\n",
    "# Adding the input layer and the first hidden layer\n",
    "classifier.add(Dense(output_dim = 11, init = 'uniform', activation = 'relu', input_dim = 22))\n",
    "\n",
    "# Adding the second hidden layer\n",
    "classifier.add(Dense(output_dim = 11, init = 'uniform', activation = 'relu'))\n",
    "\n",
    "# Adding the output layer\n",
    "classifier.add(Dense(output_dim = 1, init = 'uniform', activation = 'sigmoid'))\n",
    "\n",
    "# Compiling the ANN\n",
    "classifier.compile(optimizer = 'adam', loss = 'binary_crossentropy', metrics = ['accuracy'])"
   ]
  },
  {
   "cell_type": "code",
   "execution_count": 26,
   "metadata": {},
   "outputs": [
    {
     "name": "stdout",
     "output_type": "stream",
     "text": [
      "Epoch 1/100\n",
      "242/242 [==============================] - 0s 2ms/step - loss: 0.6922 - acc: 0.5413\n",
      "Epoch 2/100\n",
      "242/242 [==============================] - 0s 194us/step - loss: 0.6908 - acc: 0.5413\n",
      "Epoch 3/100\n",
      "242/242 [==============================] - 0s 156us/step - loss: 0.6886 - acc: 0.5413\n",
      "Epoch 4/100\n",
      "242/242 [==============================] - 0s 194us/step - loss: 0.6869 - acc: 0.5413\n",
      "Epoch 5/100\n",
      "242/242 [==============================] - 0s 285us/step - loss: 0.6856 - acc: 0.5413\n",
      "Epoch 6/100\n",
      "242/242 [==============================] - 0s 194us/step - loss: 0.6802 - acc: 0.5413\n",
      "Epoch 7/100\n",
      "242/242 [==============================] - 0s 271us/step - loss: 0.6732 - acc: 0.5950\n",
      "Epoch 8/100\n",
      "242/242 [==============================] - 0s 186us/step - loss: 0.6657 - acc: 0.6157\n",
      "Epoch 9/100\n",
      "242/242 [==============================] - 0s 186us/step - loss: 0.6476 - acc: 0.6364\n",
      "Epoch 10/100\n",
      "242/242 [==============================] - 0s 198us/step - loss: 0.6270 - acc: 0.6901\n",
      "Epoch 11/100\n",
      "242/242 [==============================] - 0s 194us/step - loss: 0.6039 - acc: 0.7025\n",
      "Epoch 12/100\n",
      "242/242 [==============================] - 0s 178us/step - loss: 0.5954 - acc: 0.6446\n",
      "Epoch 13/100\n",
      "242/242 [==============================] - 0s 186us/step - loss: 0.5681 - acc: 0.7438\n",
      "Epoch 14/100\n",
      "242/242 [==============================] - 0s 194us/step - loss: 0.5417 - acc: 0.7355\n",
      "Epoch 15/100\n",
      "242/242 [==============================] - 0s 194us/step - loss: 0.5313 - acc: 0.7521\n",
      "Epoch 16/100\n",
      "242/242 [==============================] - 0s 190us/step - loss: 0.5113 - acc: 0.7273\n",
      "Epoch 17/100\n",
      "242/242 [==============================] - 0s 198us/step - loss: 0.5150 - acc: 0.7603\n",
      "Epoch 18/100\n",
      "242/242 [==============================] - 0s 198us/step - loss: 0.4987 - acc: 0.7603\n",
      "Epoch 19/100\n",
      "242/242 [==============================] - 0s 207us/step - loss: 0.5317 - acc: 0.7479\n",
      "Epoch 20/100\n",
      "242/242 [==============================] - 0s 194us/step - loss: 0.4790 - acc: 0.7645\n",
      "Epoch 21/100\n",
      "242/242 [==============================] - 0s 190us/step - loss: 0.4797 - acc: 0.7769\n",
      "Epoch 22/100\n",
      "242/242 [==============================] - 0s 182us/step - loss: 0.4705 - acc: 0.7686\n",
      "Epoch 23/100\n",
      "242/242 [==============================] - 0s 203us/step - loss: 0.4593 - acc: 0.7810\n",
      "Epoch 24/100\n",
      "242/242 [==============================] - 0s 198us/step - loss: 0.4658 - acc: 0.7727\n",
      "Epoch 25/100\n",
      "242/242 [==============================] - 0s 186us/step - loss: 0.4545 - acc: 0.7893\n",
      "Epoch 26/100\n",
      "242/242 [==============================] - 0s 186us/step - loss: 0.4575 - acc: 0.7645\n",
      "Epoch 27/100\n",
      "242/242 [==============================] - 0s 189us/step - loss: 0.4705 - acc: 0.7645\n",
      "Epoch 28/100\n",
      "242/242 [==============================] - 0s 211us/step - loss: 0.4595 - acc: 0.7851\n",
      "Epoch 29/100\n",
      "242/242 [==============================] - 0s 202us/step - loss: 0.4457 - acc: 0.8058\n",
      "Epoch 30/100\n",
      "242/242 [==============================] - 0s 211us/step - loss: 0.4277 - acc: 0.8058\n",
      "Epoch 31/100\n",
      "242/242 [==============================] - 0s 159us/step - loss: 0.4355 - acc: 0.7893\n",
      "Epoch 32/100\n",
      "242/242 [==============================] - 0s 206us/step - loss: 0.4233 - acc: 0.8099\n",
      "Epoch 33/100\n",
      "242/242 [==============================] - 0s 194us/step - loss: 0.4480 - acc: 0.7810\n",
      "Epoch 34/100\n",
      "242/242 [==============================] - 0s 156us/step - loss: 0.4213 - acc: 0.8140\n",
      "Epoch 35/100\n",
      "242/242 [==============================] - 0s 194us/step - loss: 0.4478 - acc: 0.7851\n",
      "Epoch 36/100\n",
      "242/242 [==============================] - 0s 156us/step - loss: 0.4093 - acc: 0.8017\n",
      "Epoch 37/100\n",
      "242/242 [==============================] - 0s 194us/step - loss: 0.4107 - acc: 0.8388\n",
      "Epoch 38/100\n",
      "242/242 [==============================] - 0s 221us/step - loss: 0.4005 - acc: 0.8140\n",
      "Epoch 39/100\n",
      "242/242 [==============================] - 0s 194us/step - loss: 0.4611 - acc: 0.7727\n",
      "Epoch 40/100\n",
      "242/242 [==============================] - 0s 221us/step - loss: 0.4204 - acc: 0.8182\n",
      "Epoch 41/100\n",
      "242/242 [==============================] - 0s 194us/step - loss: 0.4066 - acc: 0.8264\n",
      "Epoch 42/100\n",
      "242/242 [==============================] - 0s 221us/step - loss: 0.3956 - acc: 0.8223\n",
      "Epoch 43/100\n",
      "242/242 [==============================] - 0s 194us/step - loss: 0.3942 - acc: 0.8388\n",
      "Epoch 44/100\n",
      "242/242 [==============================] - 0s 221us/step - loss: 0.3920 - acc: 0.8347\n",
      "Epoch 45/100\n",
      "242/242 [==============================] - 0s 194us/step - loss: 0.4005 - acc: 0.8430\n",
      "Epoch 46/100\n",
      "242/242 [==============================] - 0s 221us/step - loss: 0.3829 - acc: 0.8306\n",
      "Epoch 47/100\n",
      "242/242 [==============================] - 0s 194us/step - loss: 0.3981 - acc: 0.8306\n",
      "Epoch 48/100\n",
      "242/242 [==============================] - 0s 248us/step - loss: 0.4077 - acc: 0.8388\n",
      "Epoch 49/100\n",
      "242/242 [==============================] - 0s 198us/step - loss: 0.3917 - acc: 0.8223\n",
      "Epoch 50/100\n",
      "242/242 [==============================] - 0s 194us/step - loss: 0.3861 - acc: 0.8388\n",
      "Epoch 51/100\n",
      "242/242 [==============================] - 0s 202us/step - loss: 0.3832 - acc: 0.8347\n",
      "Epoch 52/100\n",
      "242/242 [==============================] - 0s 207us/step - loss: 0.3754 - acc: 0.8512\n",
      "Epoch 53/100\n",
      "242/242 [==============================] - 0s 190us/step - loss: 0.4177 - acc: 0.8099\n",
      "Epoch 54/100\n",
      "242/242 [==============================] - 0s 207us/step - loss: 0.3848 - acc: 0.8306\n",
      "Epoch 55/100\n",
      "242/242 [==============================] - 0s 194us/step - loss: 0.3726 - acc: 0.8388\n",
      "Epoch 56/100\n",
      "242/242 [==============================] - 0s 190us/step - loss: 0.3840 - acc: 0.8347\n",
      "Epoch 57/100\n",
      "242/242 [==============================] - 0s 169us/step - loss: 0.3677 - acc: 0.8636\n",
      "Epoch 58/100\n",
      "242/242 [==============================] - 0s 182us/step - loss: 0.3792 - acc: 0.8430\n",
      "Epoch 59/100\n",
      "242/242 [==============================] - 0s 190us/step - loss: 0.3865 - acc: 0.8264\n",
      "Epoch 60/100\n",
      "242/242 [==============================] - ETA: 0s - loss: 0.6658 - acc: 0.700 - 0s 169us/step - loss: 0.3731 - acc: 0.8430\n",
      "Epoch 61/100\n",
      "242/242 [==============================] - 0s 174us/step - loss: 0.3665 - acc: 0.8554\n",
      "Epoch 62/100\n",
      "242/242 [==============================] - 0s 190us/step - loss: 0.3779 - acc: 0.8388\n",
      "Epoch 63/100\n",
      "242/242 [==============================] - 0s 178us/step - loss: 0.3765 - acc: 0.8264\n",
      "Epoch 64/100\n",
      "242/242 [==============================] - 0s 174us/step - loss: 0.3853 - acc: 0.8223\n",
      "Epoch 65/100\n",
      "242/242 [==============================] - 0s 182us/step - loss: 0.3624 - acc: 0.8471\n",
      "Epoch 66/100\n",
      "242/242 [==============================] - 0s 198us/step - loss: 0.3625 - acc: 0.8512\n",
      "Epoch 67/100\n",
      "242/242 [==============================] - 0s 215us/step - loss: 0.3832 - acc: 0.8347\n",
      "Epoch 68/100\n",
      "242/242 [==============================] - 0s 203us/step - loss: 0.3637 - acc: 0.8636\n",
      "Epoch 69/100\n",
      "242/242 [==============================] - 0s 214us/step - loss: 0.3651 - acc: 0.8471\n",
      "Epoch 70/100\n",
      "242/242 [==============================] - 0s 211us/step - loss: 0.3764 - acc: 0.8388\n",
      "Epoch 71/100\n",
      "242/242 [==============================] - 0s 198us/step - loss: 0.3655 - acc: 0.8388\n",
      "Epoch 72/100\n",
      "242/242 [==============================] - 0s 190us/step - loss: 0.3598 - acc: 0.8471\n",
      "Epoch 73/100\n",
      "242/242 [==============================] - 0s 190us/step - loss: 0.3809 - acc: 0.8306\n",
      "Epoch 74/100\n",
      "242/242 [==============================] - 0s 125us/step - loss: 0.3684 - acc: 0.8554\n",
      "Epoch 75/100\n",
      "242/242 [==============================] - 0s 219us/step - loss: 0.3577 - acc: 0.8719\n",
      "Epoch 76/100\n",
      "242/242 [==============================] - 0s 194us/step - loss: 0.3730 - acc: 0.8471\n",
      "Epoch 77/100\n",
      "242/242 [==============================] - 0s 194us/step - loss: 0.3717 - acc: 0.8430\n",
      "Epoch 78/100\n",
      "242/242 [==============================] - 0s 156us/step - loss: 0.3721 - acc: 0.8347\n",
      "Epoch 79/100\n",
      "242/242 [==============================] - 0s 194us/step - loss: 0.3732 - acc: 0.8182\n",
      "Epoch 80/100\n",
      "242/242 [==============================] - 0s 221us/step - loss: 0.3749 - acc: 0.8306\n",
      "Epoch 81/100\n",
      "242/242 [==============================] - 0s 194us/step - loss: 0.3600 - acc: 0.8430\n",
      "Epoch 82/100\n",
      "242/242 [==============================] - 0s 156us/step - loss: 0.3640 - acc: 0.8264\n",
      "Epoch 83/100\n"
     ]
    },
    {
     "name": "stdout",
     "output_type": "stream",
     "text": [
      "242/242 [==============================] - 0s 194us/step - loss: 0.3540 - acc: 0.8430\n",
      "Epoch 84/100\n",
      "242/242 [==============================] - 0s 156us/step - loss: 0.3761 - acc: 0.8430\n",
      "Epoch 85/100\n",
      "242/242 [==============================] - 0s 194us/step - loss: 0.3534 - acc: 0.8471\n",
      "Epoch 86/100\n",
      "242/242 [==============================] - 0s 129us/step - loss: 0.3666 - acc: 0.8430\n",
      "Epoch 87/100\n",
      "242/242 [==============================] - 0s 156us/step - loss: 0.3500 - acc: 0.8595\n",
      "Epoch 88/100\n",
      "242/242 [==============================] - 0s 194us/step - loss: 0.3652 - acc: 0.8388\n",
      "Epoch 89/100\n",
      "242/242 [==============================] - 0s 156us/step - loss: 0.3595 - acc: 0.8471\n",
      "Epoch 90/100\n",
      "242/242 [==============================] - 0s 194us/step - loss: 0.3788 - acc: 0.8512\n",
      "Epoch 91/100\n",
      "242/242 [==============================] - 0s 207us/step - loss: 0.3519 - acc: 0.8678\n",
      "Epoch 92/100\n",
      "242/242 [==============================] - 0s 178us/step - loss: 0.3629 - acc: 0.8471\n",
      "Epoch 93/100\n",
      "242/242 [==============================] - 0s 174us/step - loss: 0.3868 - acc: 0.8512\n",
      "Epoch 94/100\n",
      "242/242 [==============================] - 0s 190us/step - loss: 0.3681 - acc: 0.8554\n",
      "Epoch 95/100\n",
      "242/242 [==============================] - 0s 194us/step - loss: 0.3854 - acc: 0.8264\n",
      "Epoch 96/100\n",
      "242/242 [==============================] - 0s 194us/step - loss: 0.3573 - acc: 0.8347\n",
      "Epoch 97/100\n",
      "242/242 [==============================] - 0s 202us/step - loss: 0.3516 - acc: 0.8512\n",
      "Epoch 98/100\n",
      "242/242 [==============================] - 0s 174us/step - loss: 0.3741 - acc: 0.8430\n",
      "Epoch 99/100\n",
      "242/242 [==============================] - 0s 207us/step - loss: 0.3706 - acc: 0.8388\n",
      "Epoch 100/100\n",
      "242/242 [==============================] - 0s 178us/step - loss: 0.3949 - acc: 0.8347\n"
     ]
    },
    {
     "data": {
      "text/plain": [
       "<keras.callbacks.History at 0x1efeeee1f28>"
      ]
     },
     "execution_count": 26,
     "metadata": {},
     "output_type": "execute_result"
    }
   ],
   "source": [
    "classifier.fit(X_train, y_train, batch_size = 10, nb_epoch = 100)"
   ]
  },
  {
   "cell_type": "code",
   "execution_count": 27,
   "metadata": {},
   "outputs": [
    {
     "name": "stdout",
     "output_type": "stream",
     "text": [
      "accuracy of the model:  83.60655737704919\n"
     ]
    }
   ],
   "source": [
    "y_pred = classifier.predict(X_test)\n",
    "#import seaborn as sns\n",
    "from sklearn.metrics import confusion_matrix\n",
    "cm = confusion_matrix(y_test, y_pred.round())\n",
    "#sns.heatmap(cm,annot=True,cmap=\"Oranges\",fmt=\"d\",cbar=False)\n",
    "#accuracy score\n",
    "from sklearn.metrics import accuracy_score\n",
    "ac=accuracy_score(y_test, y_pred.round())\n",
    "print('accuracy of the model: ',ac*100)\n",
    "ac=ac*100\n",
    "from sklearn.metrics import confusion_matrix,accuracy_score, roc_curve, auc\n",
    "false_positive_rate_neural, recall,true_positive_rate_neural = roc_curve( y_test, y_pred)\n",
    "roc_auc = auc(false_positive_rate_neural, recall,true_positive_rate_neural)"
   ]
  },
  {
   "cell_type": "code",
   "execution_count": 34,
   "metadata": {},
   "outputs": [
    {
     "data": {
      "image/png": "[encoded data removed]",
      "text/plain": [
       "<Figure size 432x288 with 1 Axes>"
      ]
     },
     "metadata": {
      "needs_background": "light"
     },
     "output_type": "display_data"
    }
   ],
   "source": [
    "false_positive_rate_neural, recall, true_positive_rate_neural = roc_curve( y_test, y_pred)\n",
    "roc_auc = auc(false_positive_rate_neural, recall)\n",
    "#plt.figure()\n",
    "#plt.figure(figsize=(23,19))\n",
    "plt.title('Receiver Operating Characteristic (ROC)')\n",
    "#plt.title('Reciver Operating Characterstic Curve')\n",
    "plt.plot(false_positive_rate_knn,true_positive_rate_knn,label='k-Nearest Neighbor')\n",
    "plt.plot(false_positive_rate_log,true_positive_rate_log,label='Logistic Regression')\n",
    "plt.plot(tree_false_positive_rate,tree_true_positive_rate,label='Decision Tree')\n",
    "#plt.plot(false_positive_rate_neural,true_positive_rate_neural,label='Neural Network')\n",
    "plt.plot(false_positive_rate_neural, recall, 'b', label = 'Neural Network' %roc_auc)\n",
    "plt.legend(loc='lower right')\n",
    "plt.plot([0,1], [0,1], 'r--')\n",
    "plt.xlim([0.0,1.0])\n",
    "plt.ylim([0.0,1.0])\n",
    "plt.ylabel('Recall')\n",
    "plt.xlabel('Fall-out (1-Specificity)')\n",
    "plt.show()"
   ]
  },
  {
   "cell_type": "code",
   "execution_count": null,
   "metadata": {},
   "outputs": [],
   "source": []
  }
 ],
 "metadata": {
  "kernelspec": {
   "display_name": "Python 3",
   "language": "python",
   "name": "python3"
  },
  "language_info": {
   "codemirror_mode": {
    "name": "ipython",
    "version": 3
   },
   "file_extension": ".py",
   "mimetype": "text/x-python",
   "name": "python",
   "nbconvert_exporter": "python",
   "pygments_lexer": "ipython3",
   "version": "3.6.7"
  }
 },
 "nbformat": 4,
 "nbformat_minor": 2
}
